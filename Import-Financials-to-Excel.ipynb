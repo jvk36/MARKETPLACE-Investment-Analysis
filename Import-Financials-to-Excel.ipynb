{
 "cells": [
  {
   "cell_type": "code",
   "execution_count": 7,
   "metadata": {},
   "outputs": [],
   "source": [
    "# source: https://learndataanalysis.org/source-code-import-company-financial-statements-to-excel-using-python/\n",
    "\n",
    "import requests\n",
    "from bs4 import BeautifulSoup\n",
    "import pandas as pd\n",
    "\n",
    "headers= {\n",
    "    'user-agent': 'Mozilla/5.0 (Windows NT 10.0; Win64; x64; rv:87.0) Gecko/20100101 Firefox/87.0',\n",
    "    'Accept': 'text/html,application/xhtml+xml,application/xml;q=0.9,image/webp,*/*;q=0.8',\n",
    "    'Accept-Language': 'en-US,en;q=0.5',\n",
    "    'Connection': 'keep-alive',\n",
    "    'Upgrade-Insecure-Requests': '1',\n",
    "    'Cache-Control': 'max-age=0'\n",
    "}\n",
    "\n",
    "ticker = 'META'\n",
    "\n",
    "urls = {}\n",
    "urls['income annually'] = f\"https://stockanalysis.com/stocks/{ticker}/financials/\"\n",
    "urls['income quarterly'] = f\"https://stockanalysis.com/stocks/{ticker}/financials/?period=quarterly\"\n",
    "urls['balance sheet annually'] = f\"https://stockanalysis.com/stocks/{ticker}/financials/balance-sheet/\"\n",
    "urls['balance sheet quarterly'] = f\"https://stockanalysis.com/stocks/{ticker}/financials/balance-sheet/?period=quarterly\"\n",
    "urls['cash flow annually'] = f\"https://stockanalysis.com/stocks/{ticker}/financials/cash-flow-statement/\"\n",
    "urls['cash flow quarterly'] = f\"https://stockanalysis.com/stocks/{ticker}/financials/cash-flow-statement/?period=quarterly\"\n",
    "urls['ratio annually'] = f\"https://stockanalysis.com/stocks/{ticker}/financials/ratios/\"\n",
    "urls['ratio quarterly'] = f\"https://stockanalysis.com/stocks/{ticker}/financials/ratios/?period=quarterly\"\n",
    "\n",
    "xlwriter = pd.ExcelWriter(f'financial statements ({ticker}).xlsx', engine='xlsxwriter')\n",
    "\n",
    "for key in urls.keys():\n",
    "    response = requests.get(urls[key], headers=headers)\n",
    "    soup = BeautifulSoup(response.content, 'html.parser')\n",
    "    df = pd.read_html(str(soup))[0] # pd.read_html(str(soup), attrs={'id': 'fintable'})[0]\n",
    "    df.to_excel(xlwriter, sheet_name=key, index=False)\n",
    "\n",
    "xlwriter.save()"
   ]
  },
  {
   "cell_type": "code",
   "execution_count": null,
   "metadata": {},
   "outputs": [],
   "source": []
  }
 ],
 "metadata": {
  "kernelspec": {
   "display_name": "Python 3",
   "language": "python",
   "name": "python3"
  },
  "language_info": {
   "codemirror_mode": {
    "name": "ipython",
    "version": 3
   },
   "file_extension": ".py",
   "mimetype": "text/x-python",
   "name": "python",
   "nbconvert_exporter": "python",
   "pygments_lexer": "ipython3",
   "version": "3.8.3"
  }
 },
 "nbformat": 4,
 "nbformat_minor": 4
}
